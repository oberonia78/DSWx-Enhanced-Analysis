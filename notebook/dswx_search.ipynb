{
 "cells": [
  {
   "cell_type": "code",
   "execution_count": 6,
   "metadata": {},
   "outputs": [],
   "source": [
    "import datetime\n",
    "import logging\n",
    "import os\n",
    "import glob \n",
    "from datetime import datetime, timedelta\n",
    "\n",
    "from pathlib import Path\n",
    "from osgeo import gdal, osr\n",
    "import matplotlib.pyplot as plt\n",
    "from matplotlib.colors import ListedColormap\n",
    "import numpy as np\n",
    "from pyproj import Transformer\n",
    "from sklearn.metrics import cohen_kappa_score\n",
    "from shapely.geometry import LinearRing, Point, Polygon, box\n",
    "import rasterio\n",
    "import requests\n",
    "from pprint import pprint\n"
   ]
  },
  {
   "cell_type": "code",
   "execution_count": 8,
   "metadata": {},
   "outputs": [],
   "source": [
    "def download_dswx_hls(polys, \n",
    "                      datetime_start_str, \n",
    "                      datetime_end_str, \n",
    "                      MGRS_tile,\n",
    "                      download_folder,\n",
    "                      download_flag=True):\n",
    "    CMR_OPS = 'https://cmr.earthdata.nasa.gov/search'\n",
    "    url = f'{CMR_OPS}/{\"granules\"}'\n",
    "    boundind_box = polys.bounds\n",
    "    provider = 'POCLOUD'\n",
    "    parameters = {'temporal': f'{datetime_start_str},{datetime_end_str}',\n",
    "                    'concept_id': 'C2617126679-POCLOUD',\n",
    "                    'provider': provider,\n",
    "                    'bounding_box': f'{boundind_box[1]+0.2},{boundind_box[0]+0.2},{boundind_box[3]-0.2},{boundind_box[2]-0.2}',\n",
    "                    'page_size': 200,}\n",
    "    print(parameters)\n",
    "    response = requests.get(url,\n",
    "                            params=parameters,\n",
    "                            headers={\n",
    "                                'Accept': 'application/json'\n",
    "                            }\n",
    "                        )\n",
    "    print(response.status_code)\n",
    "    print(response.headers['CMR-Hits'])\n",
    "    downloaded_list = []\n",
    "    num_search_data = response.headers['CMR-Hits']\n",
    "    number_hls_data = 0\n",
    "    if num_search_data:\n",
    "        collections = response.json()['feed']['entry']\n",
    "        # print('collection', collections)\n",
    "        for collection in collections:\n",
    "            dswx_hls_file_id = collection['producer_granule_id']\n",
    "            if MGRS_tile in dswx_hls_file_id:\n",
    "                print('url', f'{collection[\"links\"][4][\"href\"]}')\n",
    "                print('s3', f'{collection[\"links\"][3][\"href\"]}')\n",
    "                if download_flag:\n",
    "                    dswx_hls_url = collection[\"links\"][4][\"href\"]\n",
    "                    dswx_hls_filename = os.path.basename(dswx_hls_url)\n",
    "                    download_file = f'{download_folder}/{dswx_hls_filename}'\n",
    "\n",
    "                    if not os.path.isfile(download_file):\n",
    "                        response = requests.get(dswx_hls_url, stream=True)\n",
    "\n",
    "                    # Check if the request was successful\n",
    "                        if response.status_code == 200:\n",
    "                            # Open a local file with wb (write binary) permission.\n",
    "                            with open(f'{download_file}', 'wb') as file:\n",
    "                                print('downloading')\n",
    "                                for chunk in response.iter_content(chunk_size=128):\n",
    "                                    file.write(chunk)\n",
    "                else:\n",
    "                    print('under dev.')\n",
    "                downloaded_list.append(download_file)\n",
    "                number_hls_data += 1\n",
    "\n",
    "            else:\n",
    "                print('MGRS tile id does not match')\n",
    "\n",
    "    return number_hls_data, downloaded_list\n"
   ]
  },
  {
   "cell_type": "code",
   "execution_count": 3,
   "metadata": {},
   "outputs": [],
   "source": [
    "def download_dswx_s1(polys, datetime_start_str, datetime_end_str):\n",
    "    CMR_OPS = 'https://cmr.earthdata.nasa.gov/search'\n",
    "    url = f'{CMR_OPS}/{\"granules\"}'\n",
    "    boundind_box = polys.bounds\n",
    "    provider = 'POCLOUD'\n",
    "    parameters = {'temporal': f'{datetime_start_str},{datetime_end_str}',\n",
    "                    'concept_id': 'C2949811996-POCLOUD',\n",
    "                    'provider': provider,\n",
    "                    'bounding_box': f'{boundind_box[1]},{boundind_box[0]},{boundind_box[3]},{boundind_box[2]}',\n",
    "                    'page_size': 200,}\n",
    "    print(parameters)\n",
    "    response = requests.get(url,\n",
    "                            params=parameters,\n",
    "                            headers={\n",
    "                                'Accept': 'application/json'\n",
    "                            }\n",
    "                        )\n",
    "    print(response.status_code)\n",
    "    print(response.headers['CMR-Hits'])\n",
    "    number_hls_data = response.headers['CMR-Hits']\n",
    "    if number_hls_data:\n",
    "        collections = response.json()['feed']['entry']\n",
    "\n",
    "        for collection in collections:\n",
    "            print(f'{collection[\"links\"][4][\"href\"]}')\n",
    "    return number_hls_data"
   ]
  },
  {
   "cell_type": "code",
   "execution_count": 9,
   "metadata": {},
   "outputs": [
    {
     "ename": "TypeError",
     "evalue": "download_dswx_hls() missing 2 required positional arguments: 'MGRS_tile' and 'download_folder'",
     "output_type": "error",
     "traceback": [
      "\u001b[0;31m---------------------------------------------------------------------------\u001b[0m",
      "\u001b[0;31mTypeError\u001b[0m                                 Traceback (most recent call last)",
      "Cell \u001b[0;32mIn[9], line 6\u001b[0m\n\u001b[1;32m      3\u001b[0m datetime_end_str \u001b[38;5;241m=\u001b[39m \u001b[38;5;124m'\u001b[39m\u001b[38;5;124m2024-10-13T00:00:00Z\u001b[39m\u001b[38;5;124m'\u001b[39m\n\u001b[1;32m      4\u001b[0m \u001b[38;5;66;03m# formats_output = '%Y-%m-%dT%H:%M:%SZ'\u001b[39;00m\n\u001b[0;32m----> 6\u001b[0m \u001b[43mdownload_dswx_hls\u001b[49m\u001b[43m(\u001b[49m\u001b[43mpoly_cand\u001b[49m\u001b[43m,\u001b[49m\u001b[43m \u001b[49m\u001b[43mdatetime_start_str\u001b[49m\u001b[43m,\u001b[49m\u001b[43m \u001b[49m\u001b[43mdatetime_end_str\u001b[49m\u001b[43m)\u001b[49m  \n",
      "\u001b[0;31mTypeError\u001b[0m: download_dswx_hls() missing 2 required positional arguments: 'MGRS_tile' and 'download_folder'"
     ]
    }
   ],
   "source": [
    "poly_cand = box(-148, 64.90,  -147,65)\n",
    "datetime_start_str = '2024-10-01T00:00:00Z'\n",
    "datetime_end_str = '2024-10-13T00:00:00Z'\n",
    "# formats_output = '%Y-%m-%dT%H:%M:%SZ'\n",
    "\n",
    "download_dswx_hls(poly_cand, datetime_start_str, datetime_end_str)  "
   ]
  }
 ],
 "metadata": {
  "kernelspec": {
   "display_name": "dist-s1-3",
   "language": "python",
   "name": "python3"
  },
  "language_info": {
   "codemirror_mode": {
    "name": "ipython",
    "version": 3
   },
   "file_extension": ".py",
   "mimetype": "text/x-python",
   "name": "python",
   "nbconvert_exporter": "python",
   "pygments_lexer": "ipython3",
   "version": "3.12.3"
  }
 },
 "nbformat": 4,
 "nbformat_minor": 2
}
